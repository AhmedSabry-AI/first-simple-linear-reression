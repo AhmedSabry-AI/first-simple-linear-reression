{
 "cells": [
  {
   "cell_type": "code",
   "execution_count": 1,
   "id": "6f4b9b52",
   "metadata": {},
   "outputs": [],
   "source": [
    "import numpy as np\n",
    "import pandas as pd\n",
    "import seaborn as sns\n",
    "import matplotlib.pyplot as plt\n",
    "from sklearn.preprocessing import LabelEncoder\n",
    "from sklearn.linear_model import LinearRegression\n",
    "from sklearn.model_selection import train_test_split\n",
    "from sklearn.metrics import mean_absolute_error , mean_squared_error , r2_score"
   ]
  },
  {
   "cell_type": "code",
   "execution_count": 16,
   "id": "2371eab7",
   "metadata": {},
   "outputs": [
    {
     "data": {
      "text/html": [
       "<div>\n",
       "<style scoped>\n",
       "    .dataframe tbody tr th:only-of-type {\n",
       "        vertical-align: middle;\n",
       "    }\n",
       "\n",
       "    .dataframe tbody tr th {\n",
       "        vertical-align: top;\n",
       "    }\n",
       "\n",
       "    .dataframe thead th {\n",
       "        text-align: right;\n",
       "    }\n",
       "</style>\n",
       "<table border=\"1\" class=\"dataframe\">\n",
       "  <thead>\n",
       "    <tr style=\"text-align: right;\">\n",
       "      <th></th>\n",
       "      <th>age</th>\n",
       "      <th>sex</th>\n",
       "      <th>bmi</th>\n",
       "      <th>children</th>\n",
       "      <th>smoker</th>\n",
       "      <th>region</th>\n",
       "      <th>charges</th>\n",
       "    </tr>\n",
       "  </thead>\n",
       "  <tbody>\n",
       "    <tr>\n",
       "      <th>0</th>\n",
       "      <td>19</td>\n",
       "      <td>female</td>\n",
       "      <td>27.900</td>\n",
       "      <td>0</td>\n",
       "      <td>yes</td>\n",
       "      <td>southwest</td>\n",
       "      <td>16884.92400</td>\n",
       "    </tr>\n",
       "    <tr>\n",
       "      <th>1</th>\n",
       "      <td>18</td>\n",
       "      <td>male</td>\n",
       "      <td>33.770</td>\n",
       "      <td>1</td>\n",
       "      <td>no</td>\n",
       "      <td>southeast</td>\n",
       "      <td>1725.55230</td>\n",
       "    </tr>\n",
       "    <tr>\n",
       "      <th>2</th>\n",
       "      <td>28</td>\n",
       "      <td>male</td>\n",
       "      <td>33.000</td>\n",
       "      <td>3</td>\n",
       "      <td>no</td>\n",
       "      <td>southeast</td>\n",
       "      <td>4449.46200</td>\n",
       "    </tr>\n",
       "    <tr>\n",
       "      <th>3</th>\n",
       "      <td>33</td>\n",
       "      <td>male</td>\n",
       "      <td>22.705</td>\n",
       "      <td>0</td>\n",
       "      <td>no</td>\n",
       "      <td>northwest</td>\n",
       "      <td>21984.47061</td>\n",
       "    </tr>\n",
       "    <tr>\n",
       "      <th>4</th>\n",
       "      <td>32</td>\n",
       "      <td>male</td>\n",
       "      <td>28.880</td>\n",
       "      <td>0</td>\n",
       "      <td>no</td>\n",
       "      <td>northwest</td>\n",
       "      <td>3866.85520</td>\n",
       "    </tr>\n",
       "  </tbody>\n",
       "</table>\n",
       "</div>"
      ],
      "text/plain": [
       "   age     sex     bmi  children smoker     region      charges\n",
       "0   19  female  27.900         0    yes  southwest  16884.92400\n",
       "1   18    male  33.770         1     no  southeast   1725.55230\n",
       "2   28    male  33.000         3     no  southeast   4449.46200\n",
       "3   33    male  22.705         0     no  northwest  21984.47061\n",
       "4   32    male  28.880         0     no  northwest   3866.85520"
      ]
     },
     "execution_count": 16,
     "metadata": {},
     "output_type": "execute_result"
    }
   ],
   "source": [
    "df = pd.read_csv('D:/data from kaggle to apply data analysis and vsualization methods/insurance.csv')\n",
    "df.head()"
   ]
  },
  {
   "cell_type": "markdown",
   "id": "d4442b7a",
   "metadata": {},
   "source": [
    "# data exploration"
   ]
  },
  {
   "cell_type": "code",
   "execution_count": 17,
   "id": "3f03aa21",
   "metadata": {},
   "outputs": [
    {
     "name": "stdout",
     "output_type": "stream",
     "text": [
      "<class 'pandas.core.frame.DataFrame'>\n",
      "RangeIndex: 1338 entries, 0 to 1337\n",
      "Data columns (total 7 columns):\n",
      " #   Column    Non-Null Count  Dtype  \n",
      "---  ------    --------------  -----  \n",
      " 0   age       1338 non-null   int64  \n",
      " 1   sex       1338 non-null   object \n",
      " 2   bmi       1338 non-null   float64\n",
      " 3   children  1338 non-null   int64  \n",
      " 4   smoker    1338 non-null   object \n",
      " 5   region    1338 non-null   object \n",
      " 6   charges   1338 non-null   float64\n",
      "dtypes: float64(2), int64(2), object(3)\n",
      "memory usage: 73.3+ KB\n"
     ]
    }
   ],
   "source": [
    "# checking the data type and null value\n",
    "df.info()"
   ]
  },
  {
   "cell_type": "code",
   "execution_count": 18,
   "id": "a22dbb53",
   "metadata": {},
   "outputs": [
    {
     "data": {
      "text/html": [
       "<div>\n",
       "<style scoped>\n",
       "    .dataframe tbody tr th:only-of-type {\n",
       "        vertical-align: middle;\n",
       "    }\n",
       "\n",
       "    .dataframe tbody tr th {\n",
       "        vertical-align: top;\n",
       "    }\n",
       "\n",
       "    .dataframe thead th {\n",
       "        text-align: right;\n",
       "    }\n",
       "</style>\n",
       "<table border=\"1\" class=\"dataframe\">\n",
       "  <thead>\n",
       "    <tr style=\"text-align: right;\">\n",
       "      <th></th>\n",
       "      <th>age</th>\n",
       "      <th>bmi</th>\n",
       "      <th>children</th>\n",
       "      <th>charges</th>\n",
       "    </tr>\n",
       "  </thead>\n",
       "  <tbody>\n",
       "    <tr>\n",
       "      <th>count</th>\n",
       "      <td>1338.00</td>\n",
       "      <td>1338.00</td>\n",
       "      <td>1338.00</td>\n",
       "      <td>1338.00</td>\n",
       "    </tr>\n",
       "    <tr>\n",
       "      <th>mean</th>\n",
       "      <td>39.21</td>\n",
       "      <td>30.66</td>\n",
       "      <td>1.09</td>\n",
       "      <td>13270.42</td>\n",
       "    </tr>\n",
       "    <tr>\n",
       "      <th>std</th>\n",
       "      <td>14.05</td>\n",
       "      <td>6.10</td>\n",
       "      <td>1.21</td>\n",
       "      <td>12110.01</td>\n",
       "    </tr>\n",
       "    <tr>\n",
       "      <th>min</th>\n",
       "      <td>18.00</td>\n",
       "      <td>15.96</td>\n",
       "      <td>0.00</td>\n",
       "      <td>1121.87</td>\n",
       "    </tr>\n",
       "    <tr>\n",
       "      <th>25%</th>\n",
       "      <td>27.00</td>\n",
       "      <td>26.30</td>\n",
       "      <td>0.00</td>\n",
       "      <td>4740.29</td>\n",
       "    </tr>\n",
       "    <tr>\n",
       "      <th>50%</th>\n",
       "      <td>39.00</td>\n",
       "      <td>30.40</td>\n",
       "      <td>1.00</td>\n",
       "      <td>9382.03</td>\n",
       "    </tr>\n",
       "    <tr>\n",
       "      <th>75%</th>\n",
       "      <td>51.00</td>\n",
       "      <td>34.69</td>\n",
       "      <td>2.00</td>\n",
       "      <td>16639.91</td>\n",
       "    </tr>\n",
       "    <tr>\n",
       "      <th>max</th>\n",
       "      <td>64.00</td>\n",
       "      <td>53.13</td>\n",
       "      <td>5.00</td>\n",
       "      <td>63770.43</td>\n",
       "    </tr>\n",
       "  </tbody>\n",
       "</table>\n",
       "</div>"
      ],
      "text/plain": [
       "           age      bmi  children   charges\n",
       "count  1338.00  1338.00   1338.00   1338.00\n",
       "mean     39.21    30.66      1.09  13270.42\n",
       "std      14.05     6.10      1.21  12110.01\n",
       "min      18.00    15.96      0.00   1121.87\n",
       "25%      27.00    26.30      0.00   4740.29\n",
       "50%      39.00    30.40      1.00   9382.03\n",
       "75%      51.00    34.69      2.00  16639.91\n",
       "max      64.00    53.13      5.00  63770.43"
      ]
     },
     "execution_count": 18,
     "metadata": {},
     "output_type": "execute_result"
    }
   ],
   "source": [
    "# Get summary satistics\n",
    "df.describe().round(2)"
   ]
  },
  {
   "cell_type": "code",
   "execution_count": 19,
   "id": "1d2e8458",
   "metadata": {},
   "outputs": [
    {
     "data": {
      "text/plain": [
       "0"
      ]
     },
     "execution_count": 19,
     "metadata": {},
     "output_type": "execute_result"
    }
   ],
   "source": [
    "# checking Missing(Null) values\n",
    "df.isna().sum().sum()"
   ]
  },
  {
   "cell_type": "code",
   "execution_count": 33,
   "id": "56ebc8c8",
   "metadata": {},
   "outputs": [
    {
     "data": {
      "text/plain": [
       "False    1337\n",
       "Name: count, dtype: int64"
      ]
     },
     "execution_count": 33,
     "metadata": {},
     "output_type": "execute_result"
    }
   ],
   "source": [
    "# checking duplicate values\n",
    "df.duplicated().value_counts()"
   ]
  },
  {
   "cell_type": "code",
   "execution_count": 21,
   "id": "f6ee8895",
   "metadata": {},
   "outputs": [],
   "source": [
    "# drop duplicate values\n",
    "df.drop_duplicates(inplace = True)"
   ]
  },
  {
   "cell_type": "code",
   "execution_count": 22,
   "id": "cff2b26a",
   "metadata": {},
   "outputs": [
    {
     "data": {
      "text/plain": [
       "0"
      ]
     },
     "execution_count": 22,
     "metadata": {},
     "output_type": "execute_result"
    }
   ],
   "source": [
    "df.duplicated().sum()"
   ]
  },
  {
   "cell_type": "code",
   "execution_count": 43,
   "id": "2ffdc7ea",
   "metadata": {},
   "outputs": [
    {
     "data": {
      "image/png": "[encoded data removed]",
      "text/plain": [
       "<Figure size 640x480 with 1 Axes>"
      ]
     },
     "metadata": {},
     "output_type": "display_data"
    }
   ],
   "source": [
    "sns.countplot(x = 'sex' , data = df_cleaned)\n",
    "plt.xlabel('Sex')\n",
    "plt.ylabel('Count')\n",
    "plt.title('Dstribution of Sex')\n",
    "plt.show()"
   ]
  },
  {
   "cell_type": "code",
   "execution_count": 44,
   "id": "927c3c26",
   "metadata": {},
   "outputs": [
    {
     "data": {
      "image/png": "[encoded data removed]",
      "text/plain": [
       "<Figure size 640x480 with 1 Axes>"
      ]
     },
     "metadata": {},
     "output_type": "display_data"
    }
   ],
   "source": [
    "df_cleaned['age'].plot(kind = 'hist' , bins = 20)\n",
    "plt.xlabel('Age')\n",
    "plt.ylabel('frequancy')\n",
    "plt.title('Distribution of Age')\n",
    "plt.show()"
   ]
  },
  {
   "cell_type": "code",
   "execution_count": 56,
   "id": "b75ad1fe",
   "metadata": {},
   "outputs": [
    {
     "data": {
      "image/png": "[encoded data removed]",
      "text/plain": [
       "<Figure size 640x480 with 1 Axes>"
      ]
     },
     "metadata": {},
     "output_type": "display_data"
    }
   ],
   "source": [
    "# relationship between age and charges using scatterplot\n",
    "df_cleaned.plot(kind='scatter', x='age', y='charges', color='g')\n",
    "plt.xlabel('Age')\n",
    "plt.ylabel('Charges')\n",
    "plt.title('Relationship between Age and Charges')\n",
    "plt.show()\n"
   ]
  },
  {
   "cell_type": "markdown",
   "id": "f031869a",
   "metadata": {},
   "source": [
    "There is a linearly increasing relationship between age and insurance charges. Older people are tend to be charged more"
   ]
  },
  {
   "cell_type": "markdown",
   "id": "76aa355d",
   "metadata": {},
   "source": [
    "# data preprocessing"
   ]
  },
  {
   "cell_type": "markdown",
   "id": "54f1b9f7",
   "metadata": {},
   "source": [
    "#### manipulate categorical coluns"
   ]
  },
  {
   "cell_type": "code",
   "execution_count": 45,
   "id": "8a1204a1",
   "metadata": {},
   "outputs": [
    {
     "data": {
      "text/html": [
       "<div>\n",
       "<style scoped>\n",
       "    .dataframe tbody tr th:only-of-type {\n",
       "        vertical-align: middle;\n",
       "    }\n",
       "\n",
       "    .dataframe tbody tr th {\n",
       "        vertical-align: top;\n",
       "    }\n",
       "\n",
       "    .dataframe thead th {\n",
       "        text-align: right;\n",
       "    }\n",
       "</style>\n",
       "<table border=\"1\" class=\"dataframe\">\n",
       "  <thead>\n",
       "    <tr style=\"text-align: right;\">\n",
       "      <th></th>\n",
       "      <th>age</th>\n",
       "      <th>sex</th>\n",
       "      <th>bmi</th>\n",
       "      <th>children</th>\n",
       "      <th>smoker</th>\n",
       "      <th>charges</th>\n",
       "      <th>region_northeast</th>\n",
       "      <th>region_northwest</th>\n",
       "      <th>region_southeast</th>\n",
       "      <th>region_southwest</th>\n",
       "    </tr>\n",
       "  </thead>\n",
       "  <tbody>\n",
       "    <tr>\n",
       "      <th>305</th>\n",
       "      <td>29</td>\n",
       "      <td>male</td>\n",
       "      <td>33.345</td>\n",
       "      <td>2</td>\n",
       "      <td>no</td>\n",
       "      <td>19442.3535</td>\n",
       "      <td>0</td>\n",
       "      <td>1</td>\n",
       "      <td>0</td>\n",
       "      <td>0</td>\n",
       "    </tr>\n",
       "    <tr>\n",
       "      <th>187</th>\n",
       "      <td>30</td>\n",
       "      <td>female</td>\n",
       "      <td>30.900</td>\n",
       "      <td>3</td>\n",
       "      <td>no</td>\n",
       "      <td>5325.6510</td>\n",
       "      <td>0</td>\n",
       "      <td>0</td>\n",
       "      <td>0</td>\n",
       "      <td>1</td>\n",
       "    </tr>\n",
       "    <tr>\n",
       "      <th>144</th>\n",
       "      <td>30</td>\n",
       "      <td>male</td>\n",
       "      <td>28.690</td>\n",
       "      <td>3</td>\n",
       "      <td>yes</td>\n",
       "      <td>20745.9891</td>\n",
       "      <td>0</td>\n",
       "      <td>1</td>\n",
       "      <td>0</td>\n",
       "      <td>0</td>\n",
       "    </tr>\n",
       "    <tr>\n",
       "      <th>215</th>\n",
       "      <td>41</td>\n",
       "      <td>female</td>\n",
       "      <td>37.100</td>\n",
       "      <td>2</td>\n",
       "      <td>no</td>\n",
       "      <td>7371.7720</td>\n",
       "      <td>0</td>\n",
       "      <td>0</td>\n",
       "      <td>0</td>\n",
       "      <td>1</td>\n",
       "    </tr>\n",
       "    <tr>\n",
       "      <th>864</th>\n",
       "      <td>51</td>\n",
       "      <td>male</td>\n",
       "      <td>25.400</td>\n",
       "      <td>0</td>\n",
       "      <td>no</td>\n",
       "      <td>8782.4690</td>\n",
       "      <td>0</td>\n",
       "      <td>0</td>\n",
       "      <td>0</td>\n",
       "      <td>1</td>\n",
       "    </tr>\n",
       "  </tbody>\n",
       "</table>\n",
       "</div>"
      ],
      "text/plain": [
       "     age     sex     bmi  children smoker     charges  region_northeast  \\\n",
       "305   29    male  33.345         2     no  19442.3535                 0   \n",
       "187   30  female  30.900         3     no   5325.6510                 0   \n",
       "144   30    male  28.690         3    yes  20745.9891                 0   \n",
       "215   41  female  37.100         2     no   7371.7720                 0   \n",
       "864   51    male  25.400         0     no   8782.4690                 0   \n",
       "\n",
       "     region_northwest  region_southeast  region_southwest  \n",
       "305                 1                 0                 0  \n",
       "187                 0                 0                 1  \n",
       "144                 1                 0                 0  \n",
       "215                 0                 0                 1  \n",
       "864                 0                 0                 1  "
      ]
     },
     "execution_count": 45,
     "metadata": {},
     "output_type": "execute_result"
    }
   ],
   "source": [
    "df_encoded = pd.get_dummies(df_cleaned , columns = ['region'] , prefix = 'region' , dtype = 'int')\n",
    "df_encoded.sample(5)"
   ]
  },
  {
   "cell_type": "code",
   "execution_count": 49,
   "id": "c58d0aa8",
   "metadata": {},
   "outputs": [
    {
     "data": {
      "text/html": [
       "<div>\n",
       "<style scoped>\n",
       "    .dataframe tbody tr th:only-of-type {\n",
       "        vertical-align: middle;\n",
       "    }\n",
       "\n",
       "    .dataframe tbody tr th {\n",
       "        vertical-align: top;\n",
       "    }\n",
       "\n",
       "    .dataframe thead th {\n",
       "        text-align: right;\n",
       "    }\n",
       "</style>\n",
       "<table border=\"1\" class=\"dataframe\">\n",
       "  <thead>\n",
       "    <tr style=\"text-align: right;\">\n",
       "      <th></th>\n",
       "      <th>age</th>\n",
       "      <th>sex</th>\n",
       "      <th>bmi</th>\n",
       "      <th>children</th>\n",
       "      <th>smoker</th>\n",
       "      <th>charges</th>\n",
       "      <th>region_northeast</th>\n",
       "      <th>region_northwest</th>\n",
       "      <th>region_southeast</th>\n",
       "      <th>region_southwest</th>\n",
       "      <th>smoker_encoded</th>\n",
       "    </tr>\n",
       "  </thead>\n",
       "  <tbody>\n",
       "    <tr>\n",
       "      <th>228</th>\n",
       "      <td>41</td>\n",
       "      <td>female</td>\n",
       "      <td>31.635</td>\n",
       "      <td>1</td>\n",
       "      <td>no</td>\n",
       "      <td>7358.17565</td>\n",
       "      <td>1</td>\n",
       "      <td>0</td>\n",
       "      <td>0</td>\n",
       "      <td>0</td>\n",
       "      <td>0</td>\n",
       "    </tr>\n",
       "    <tr>\n",
       "      <th>1216</th>\n",
       "      <td>40</td>\n",
       "      <td>male</td>\n",
       "      <td>25.080</td>\n",
       "      <td>0</td>\n",
       "      <td>no</td>\n",
       "      <td>5415.66120</td>\n",
       "      <td>0</td>\n",
       "      <td>0</td>\n",
       "      <td>1</td>\n",
       "      <td>0</td>\n",
       "      <td>0</td>\n",
       "    </tr>\n",
       "    <tr>\n",
       "      <th>1182</th>\n",
       "      <td>25</td>\n",
       "      <td>female</td>\n",
       "      <td>30.300</td>\n",
       "      <td>0</td>\n",
       "      <td>no</td>\n",
       "      <td>2632.99200</td>\n",
       "      <td>0</td>\n",
       "      <td>0</td>\n",
       "      <td>0</td>\n",
       "      <td>1</td>\n",
       "      <td>0</td>\n",
       "    </tr>\n",
       "    <tr>\n",
       "      <th>991</th>\n",
       "      <td>38</td>\n",
       "      <td>female</td>\n",
       "      <td>27.835</td>\n",
       "      <td>2</td>\n",
       "      <td>no</td>\n",
       "      <td>7144.86265</td>\n",
       "      <td>1</td>\n",
       "      <td>0</td>\n",
       "      <td>0</td>\n",
       "      <td>0</td>\n",
       "      <td>0</td>\n",
       "    </tr>\n",
       "    <tr>\n",
       "      <th>397</th>\n",
       "      <td>21</td>\n",
       "      <td>male</td>\n",
       "      <td>31.020</td>\n",
       "      <td>0</td>\n",
       "      <td>no</td>\n",
       "      <td>16586.49771</td>\n",
       "      <td>0</td>\n",
       "      <td>0</td>\n",
       "      <td>1</td>\n",
       "      <td>0</td>\n",
       "      <td>0</td>\n",
       "    </tr>\n",
       "  </tbody>\n",
       "</table>\n",
       "</div>"
      ],
      "text/plain": [
       "      age     sex     bmi  children smoker      charges  region_northeast  \\\n",
       "228    41  female  31.635         1     no   7358.17565                 1   \n",
       "1216   40    male  25.080         0     no   5415.66120                 0   \n",
       "1182   25  female  30.300         0     no   2632.99200                 0   \n",
       "991    38  female  27.835         2     no   7144.86265                 1   \n",
       "397    21    male  31.020         0     no  16586.49771                 0   \n",
       "\n",
       "      region_northwest  region_southeast  region_southwest  smoker_encoded  \n",
       "228                  0                 0                 0               0  \n",
       "1216                 0                 1                 0               0  \n",
       "1182                 0                 0                 1               0  \n",
       "991                  0                 0                 0               0  \n",
       "397                  0                 1                 0               0  "
      ]
     },
     "execution_count": 49,
     "metadata": {},
     "output_type": "execute_result"
    }
   ],
   "source": [
    "labelencoder = LabelEncoder()\n",
    "df_encoded['smoker_encoded'] = labelencoder.fit_transform(df_encoded['smoker'])\n",
    "df_encoded.sample(5)"
   ]
  },
  {
   "cell_type": "code",
   "execution_count": 50,
   "id": "2c02e005",
   "metadata": {},
   "outputs": [
    {
     "data": {
      "text/html": [
       "<div>\n",
       "<style scoped>\n",
       "    .dataframe tbody tr th:only-of-type {\n",
       "        vertical-align: middle;\n",
       "    }\n",
       "\n",
       "    .dataframe tbody tr th {\n",
       "        vertical-align: top;\n",
       "    }\n",
       "\n",
       "    .dataframe thead th {\n",
       "        text-align: right;\n",
       "    }\n",
       "</style>\n",
       "<table border=\"1\" class=\"dataframe\">\n",
       "  <thead>\n",
       "    <tr style=\"text-align: right;\">\n",
       "      <th></th>\n",
       "      <th>age</th>\n",
       "      <th>sex</th>\n",
       "      <th>bmi</th>\n",
       "      <th>children</th>\n",
       "      <th>smoker</th>\n",
       "      <th>charges</th>\n",
       "      <th>region_northeast</th>\n",
       "      <th>region_northwest</th>\n",
       "      <th>region_southeast</th>\n",
       "      <th>region_southwest</th>\n",
       "      <th>smoker_encoded</th>\n",
       "      <th>Sex_encoded</th>\n",
       "    </tr>\n",
       "  </thead>\n",
       "  <tbody>\n",
       "    <tr>\n",
       "      <th>1179</th>\n",
       "      <td>31</td>\n",
       "      <td>male</td>\n",
       "      <td>29.810</td>\n",
       "      <td>0</td>\n",
       "      <td>yes</td>\n",
       "      <td>19350.36890</td>\n",
       "      <td>0</td>\n",
       "      <td>0</td>\n",
       "      <td>1</td>\n",
       "      <td>0</td>\n",
       "      <td>1</td>\n",
       "      <td>1</td>\n",
       "    </tr>\n",
       "    <tr>\n",
       "      <th>465</th>\n",
       "      <td>30</td>\n",
       "      <td>female</td>\n",
       "      <td>28.380</td>\n",
       "      <td>1</td>\n",
       "      <td>yes</td>\n",
       "      <td>19521.96820</td>\n",
       "      <td>0</td>\n",
       "      <td>0</td>\n",
       "      <td>1</td>\n",
       "      <td>0</td>\n",
       "      <td>1</td>\n",
       "      <td>0</td>\n",
       "    </tr>\n",
       "    <tr>\n",
       "      <th>1026</th>\n",
       "      <td>19</td>\n",
       "      <td>male</td>\n",
       "      <td>26.030</td>\n",
       "      <td>1</td>\n",
       "      <td>yes</td>\n",
       "      <td>16450.89470</td>\n",
       "      <td>0</td>\n",
       "      <td>1</td>\n",
       "      <td>0</td>\n",
       "      <td>0</td>\n",
       "      <td>1</td>\n",
       "      <td>1</td>\n",
       "    </tr>\n",
       "    <tr>\n",
       "      <th>318</th>\n",
       "      <td>44</td>\n",
       "      <td>female</td>\n",
       "      <td>27.645</td>\n",
       "      <td>0</td>\n",
       "      <td>no</td>\n",
       "      <td>7421.19455</td>\n",
       "      <td>0</td>\n",
       "      <td>1</td>\n",
       "      <td>0</td>\n",
       "      <td>0</td>\n",
       "      <td>0</td>\n",
       "      <td>0</td>\n",
       "    </tr>\n",
       "    <tr>\n",
       "      <th>1099</th>\n",
       "      <td>25</td>\n",
       "      <td>female</td>\n",
       "      <td>33.990</td>\n",
       "      <td>1</td>\n",
       "      <td>no</td>\n",
       "      <td>3227.12110</td>\n",
       "      <td>0</td>\n",
       "      <td>0</td>\n",
       "      <td>1</td>\n",
       "      <td>0</td>\n",
       "      <td>0</td>\n",
       "      <td>0</td>\n",
       "    </tr>\n",
       "  </tbody>\n",
       "</table>\n",
       "</div>"
      ],
      "text/plain": [
       "      age     sex     bmi  children smoker      charges  region_northeast  \\\n",
       "1179   31    male  29.810         0    yes  19350.36890                 0   \n",
       "465    30  female  28.380         1    yes  19521.96820                 0   \n",
       "1026   19    male  26.030         1    yes  16450.89470                 0   \n",
       "318    44  female  27.645         0     no   7421.19455                 0   \n",
       "1099   25  female  33.990         1     no   3227.12110                 0   \n",
       "\n",
       "      region_northwest  region_southeast  region_southwest  smoker_encoded  \\\n",
       "1179                 0                 1                 0               1   \n",
       "465                  0                 1                 0               1   \n",
       "1026                 1                 0                 0               1   \n",
       "318                  1                 0                 0               0   \n",
       "1099                 0                 1                 0               0   \n",
       "\n",
       "      Sex_encoded  \n",
       "1179            1  \n",
       "465             0  \n",
       "1026            1  \n",
       "318             0  \n",
       "1099            0  "
      ]
     },
     "execution_count": 50,
     "metadata": {},
     "output_type": "execute_result"
    }
   ],
   "source": [
    "df_encoded['Sex_encoded'] = labelencoder.fit_transform(df_encoded['sex'])\n",
    "df_encoded.sample(5)"
   ]
  },
  {
   "cell_type": "code",
   "execution_count": 51,
   "id": "baa019fb",
   "metadata": {},
   "outputs": [
    {
     "data": {
      "text/html": [
       "<div>\n",
       "<style scoped>\n",
       "    .dataframe tbody tr th:only-of-type {\n",
       "        vertical-align: middle;\n",
       "    }\n",
       "\n",
       "    .dataframe tbody tr th {\n",
       "        vertical-align: top;\n",
       "    }\n",
       "\n",
       "    .dataframe thead th {\n",
       "        text-align: right;\n",
       "    }\n",
       "</style>\n",
       "<table border=\"1\" class=\"dataframe\">\n",
       "  <thead>\n",
       "    <tr style=\"text-align: right;\">\n",
       "      <th></th>\n",
       "      <th>age</th>\n",
       "      <th>bmi</th>\n",
       "      <th>children</th>\n",
       "      <th>charges</th>\n",
       "      <th>region_northeast</th>\n",
       "      <th>region_northwest</th>\n",
       "      <th>region_southeast</th>\n",
       "      <th>region_southwest</th>\n",
       "      <th>smoker_encoded</th>\n",
       "      <th>Sex_encoded</th>\n",
       "    </tr>\n",
       "  </thead>\n",
       "  <tbody>\n",
       "    <tr>\n",
       "      <th>634</th>\n",
       "      <td>51</td>\n",
       "      <td>39.700</td>\n",
       "      <td>1</td>\n",
       "      <td>9391.34600</td>\n",
       "      <td>0</td>\n",
       "      <td>0</td>\n",
       "      <td>0</td>\n",
       "      <td>1</td>\n",
       "      <td>0</td>\n",
       "      <td>1</td>\n",
       "    </tr>\n",
       "    <tr>\n",
       "      <th>196</th>\n",
       "      <td>39</td>\n",
       "      <td>32.800</td>\n",
       "      <td>0</td>\n",
       "      <td>5649.71500</td>\n",
       "      <td>0</td>\n",
       "      <td>0</td>\n",
       "      <td>0</td>\n",
       "      <td>1</td>\n",
       "      <td>0</td>\n",
       "      <td>0</td>\n",
       "    </tr>\n",
       "    <tr>\n",
       "      <th>1320</th>\n",
       "      <td>31</td>\n",
       "      <td>31.065</td>\n",
       "      <td>3</td>\n",
       "      <td>5425.02335</td>\n",
       "      <td>0</td>\n",
       "      <td>1</td>\n",
       "      <td>0</td>\n",
       "      <td>0</td>\n",
       "      <td>0</td>\n",
       "      <td>1</td>\n",
       "    </tr>\n",
       "    <tr>\n",
       "      <th>1150</th>\n",
       "      <td>18</td>\n",
       "      <td>30.305</td>\n",
       "      <td>0</td>\n",
       "      <td>2203.73595</td>\n",
       "      <td>1</td>\n",
       "      <td>0</td>\n",
       "      <td>0</td>\n",
       "      <td>0</td>\n",
       "      <td>0</td>\n",
       "      <td>0</td>\n",
       "    </tr>\n",
       "    <tr>\n",
       "      <th>835</th>\n",
       "      <td>42</td>\n",
       "      <td>35.970</td>\n",
       "      <td>2</td>\n",
       "      <td>7160.33030</td>\n",
       "      <td>0</td>\n",
       "      <td>0</td>\n",
       "      <td>1</td>\n",
       "      <td>0</td>\n",
       "      <td>0</td>\n",
       "      <td>1</td>\n",
       "    </tr>\n",
       "  </tbody>\n",
       "</table>\n",
       "</div>"
      ],
      "text/plain": [
       "      age     bmi  children     charges  region_northeast  region_northwest  \\\n",
       "634    51  39.700         1  9391.34600                 0                 0   \n",
       "196    39  32.800         0  5649.71500                 0                 0   \n",
       "1320   31  31.065         3  5425.02335                 0                 1   \n",
       "1150   18  30.305         0  2203.73595                 1                 0   \n",
       "835    42  35.970         2  7160.33030                 0                 0   \n",
       "\n",
       "      region_southeast  region_southwest  smoker_encoded  Sex_encoded  \n",
       "634                  0                 1               0            1  \n",
       "196                  0                 1               0            0  \n",
       "1320                 0                 0               0            1  \n",
       "1150                 0                 0               0            0  \n",
       "835                  1                 0               0            1  "
      ]
     },
     "execution_count": 51,
     "metadata": {},
     "output_type": "execute_result"
    }
   ],
   "source": [
    "df_encoded = df_encoded[[x for x in df_encoded.columns if x not in ['smoker', 'sex']]]\n",
    "df_encoded.sample(5)"
   ]
  },
  {
   "cell_type": "markdown",
   "id": "a326b0df",
   "metadata": {},
   "source": [
    "#### checking outlier and remove it"
   ]
  },
  {
   "cell_type": "code",
   "execution_count": 52,
   "id": "529502df",
   "metadata": {},
   "outputs": [
    {
     "data": {
      "image/png": "[encoded data removed]",
      "text/plain": [
       "<Figure size 640x480 with 1 Axes>"
      ]
     },
     "metadata": {},
     "output_type": "display_data"
    }
   ],
   "source": [
    "# checking outlier by using box plot for numerical columns\n",
    "df.boxplot(column=['age', 'bmi', 'children', 'charges']) \n",
    "plt.title('Box plot of Numerical Columns')\n",
    "plt.show()"
   ]
  },
  {
   "cell_type": "code",
   "execution_count": 53,
   "id": "b12c8fad",
   "metadata": {},
   "outputs": [],
   "source": [
    "# Handling  Outlier\n",
    "# Remove Outlier based on specific threshold\n",
    "df_cleaned = df[ (df['charges'] < 21000 ) & (df['bmi'] < 46) ]"
   ]
  },
  {
   "cell_type": "code",
   "execution_count": 54,
   "id": "c8c4463f",
   "metadata": {},
   "outputs": [
    {
     "data": {
      "image/png": "[encoded data removed]",
      "text/plain": [
       "<Figure size 640x480 with 1 Axes>"
      ]
     },
     "metadata": {},
     "output_type": "display_data"
    }
   ],
   "source": [
    "# visualize boxplot after removing outliers\n",
    "df_cleaned.boxplot(column=['age', 'bmi', 'children', 'charges'])\n",
    "plt.title('Box plot of Numerical Columns')\n",
    "plt.show()"
   ]
  },
  {
   "cell_type": "code",
   "execution_count": 55,
   "id": "ec8b5bdd",
   "metadata": {},
   "outputs": [
    {
     "data": {
      "image/png": "[encoded data removed]",
      "text/plain": [
       "<Figure size 640x480 with 1 Axes>"
      ]
     },
     "metadata": {},
     "output_type": "display_data"
    }
   ],
   "source": [
    "# Calculate the total charges by region\n",
    "charges_by_region = df_cleaned.groupby('region')['charges'].sum()\n",
    "\n",
    "# Create a bar chart\n",
    "plt.bar(charges_by_region.index, charges_by_region.values, color='grey')\n",
    "\n",
    "# Add labels and title\n",
    "plt.xlabel('Region')\n",
    "\n",
    "plt.ylabel('Total Charges')\n",
    "plt.title('Total Charges by Region')\n",
    "\n",
    "# Rotate x-axis labels for better visibility (optional)\n",
    "plt.xticks(rotation=45)\n",
    "\n",
    "# Display the chart\n",
    "plt.show()"
   ]
  },
  {
   "cell_type": "markdown",
   "id": "95926095",
   "metadata": {},
   "source": [
    "# Modeling"
   ]
  },
  {
   "cell_type": "code",
   "execution_count": 62,
   "id": "88b697b8",
   "metadata": {},
   "outputs": [],
   "source": [
    "x = df_encoded.drop(['charges'] , axis = 1)\n",
    "y = df_encoded['charges']"
   ]
  },
  {
   "cell_type": "code",
   "execution_count": 65,
   "id": "0e971179",
   "metadata": {},
   "outputs": [
    {
     "data": {
      "text/plain": [
       "(array([ 2881.04562781, 10074.54388795, 10725.83278474,  9363.89724408,\n",
       "         6325.63175205,  9608.32685644, 11722.3197169 ,  9456.11532781,\n",
       "        12101.42639317, 11373.17863477,  2290.47600323, 16353.97189289,\n",
       "        11622.90852709, 12517.11934736, 16565.05053688, 18348.73174831,\n",
       "         2288.4830371 ,  4463.85739091, 11611.59248206, 11200.96116804,\n",
       "         5913.09003382,  5116.74131118, 10745.42725196,  5898.14272071,\n",
       "         2348.5513893 , 11911.30745086,  5248.78227389, 14780.76347276,\n",
       "         4989.76063679,  1960.07768706, 11700.23065141, 12307.12749771,\n",
       "        10920.57225224, 10361.15644332,  9333.48548313,  2868.32567865,\n",
       "         7210.97321297,  8326.46592803,  2122.24161456,  6945.88989445,\n",
       "         6374.32394603,  6466.53664777,  1679.44570917,  7035.18715426,\n",
       "         2711.65197451,  7854.39907822,  9679.79919756,  1620.82396539,\n",
       "        10168.43634978,  6802.93203398,  5210.73765298,  5814.24309047,\n",
       "        13152.1803045 ,  8717.628081  ,  9473.1858746 ,  1622.12454889,\n",
       "         9153.9265155 , 11198.5464938 ,  2836.66405103, 12578.81664027,\n",
       "         4041.74674323, 11412.76328832,  3162.14404385,  3436.7868151 ,\n",
       "         7097.58535811,  2323.66193812,  9841.53412021,  4736.82533572,\n",
       "         6548.0610564 ,  2403.06759549,  5478.73319689,  1832.05324066,\n",
       "         9197.56688285,  1797.67060224,  2820.38901144,  2313.60846351,\n",
       "         9766.87299322, 18504.69858083,  9709.43992863, 11535.48369993,\n",
       "         5274.79361653, 13425.26814928,  5456.38830543,  5305.87284092,\n",
       "         3075.11479254, 11664.86586692, 10511.71653816,  5318.06364522,\n",
       "        10421.62308036,  7040.54390384,  5350.83594274, 12494.32937092,\n",
       "         5916.45205871,  7342.85804898,  4296.59925785,  6738.35654951,\n",
       "         9741.63169697,  4672.87401484, 11532.77588668,  5154.91096377,\n",
       "         4245.80219343,  7856.77762544,  9109.07350856, 14837.20539169,\n",
       "        13930.08840664,  5980.68932155, 12096.44914855,  4632.22023769,\n",
       "        10234.97338338, 11654.93377448,  9579.82091552,  8056.75034473,\n",
       "        11339.17565188,  2310.66364854,  1780.26609913, 11781.07086271,\n",
       "         7836.34098853, 11034.2903996 ,  7447.34628237, 12659.07896027,\n",
       "         3423.73980971,  7905.6364061 , 13014.11773602,  6057.32173622,\n",
       "         4183.7742976 ,  9489.24524538,  1746.07150025, 15591.73252488,\n",
       "         9240.27142339,  7738.52933973,  4521.52773813, 15785.04025753,\n",
       "         7385.07847641,  2318.82068857,  8777.48846988, 13922.16634258,\n",
       "         7177.32851875,  4028.01008355,  6355.49088026,  1213.39415188,\n",
       "         7409.43245575, 11603.84895752, 22072.39865305, 10152.51102697,\n",
       "         7780.87746679, 13201.43547907,  2545.04469574,  5013.43307693,\n",
       "        11585.47246101, 12451.31771532,  8387.47155014, 17002.15046539,\n",
       "         2140.20189594,  2078.4126399 ,  9916.9620815 ,  5113.98968119,\n",
       "         9290.6457962 ,  9908.99808035,  2372.70325333, 11405.36353363,\n",
       "         9395.38474806, 13410.34019869, 12219.23411142,  8835.53850215,\n",
       "        11757.38852305,  2578.38584405, 22316.17687285,  1105.5637084 ,\n",
       "         8997.63176881,  3140.58267613,  8862.8765799 ,  9306.59992874,\n",
       "        11009.42706493, 10092.77122245, 11192.086879  ,  2519.15838478,\n",
       "         9980.33962719,  5104.23340634, 18370.31838384,  2718.339359  ,\n",
       "        12097.19880594,  3835.61529692, 10729.03814913, 11908.28643157,\n",
       "        11323.95589442,  2958.20446349,  8262.97974993,  8480.42001473,\n",
       "        12121.83691358,  5894.78734817, 12357.06884   ,  5477.38931071,\n",
       "         7420.33135658,  8965.13001098, 10345.69078443,  6730.64912778,\n",
       "         8356.63495975, 10401.25042052,  4689.6582626 ,  2636.98810342,\n",
       "         2441.13798739,  5707.29690436,  7330.68316498,  2430.9192981 ,\n",
       "         3493.67763361, 11608.79290997,  5936.61631138, 18099.96768535,\n",
       "         1683.02828168,  8238.3974138 ,  5982.23026748, 10013.83861112,\n",
       "         9857.1436342 ,  5766.94933918]),\n",
       " 1174.6180894555184,\n",
       " 5671427.089928577,\n",
       " 2381.475821823219)"
      ]
     },
     "execution_count": 65,
     "metadata": {},
     "output_type": "execute_result"
    }
   ],
   "source": [
    "def predicted_value(q , w):\n",
    "    x_train , x_test , y_train , y_test = train_test_split(q , w , test_size = 0.2 , random_state = 42\n",
    "                                                        , shuffle = True)\n",
    "    lr_model = LinearRegression() \n",
    "    lr_model.fit(x_train , y_train)\n",
    "    y_pred = lr_model.predict(x_test)\n",
    "    a =  mean_absolute_error(y_test , y_pred)\n",
    "    b =  mean_squared_error(y_test , y_pred)\n",
    "    c =  np.sqrt(mean_squared_error(y_test , y_pred))\n",
    "    return y_pred , a ,  b, c\n",
    "    \n",
    "q = x\n",
    "w = y\n",
    "predicted_value(q , w) "
   ]
  },
  {
   "cell_type": "code",
   "execution_count": null,
   "id": "1f21c3a8",
   "metadata": {},
   "outputs": [],
   "source": []
  }
 ],
 "metadata": {
  "kernelspec": {
   "display_name": "Python 3 (ipykernel)",
   "language": "python",
   "name": "python3"
  },
  "language_info": {
   "codemirror_mode": {
    "name": "ipython",
    "version": 3
   },
   "file_extension": ".py",
   "mimetype": "text/x-python",
   "name": "python",
   "nbconvert_exporter": "python",
   "pygments_lexer": "ipython3",
   "version": "3.11.5"
  }
 },
 "nbformat": 4,
 "nbformat_minor": 5
}
